{
 "cells": [
  {
   "cell_type": "code",
   "execution_count": 1,
   "id": "a1d2bc0f-e9c9-4b02-adc1-ec0ab906026d",
   "metadata": {
    "tags": []
   },
   "outputs": [],
   "source": [
    "%matplotlib inline\n",
    "import heartpy as hp\n",
    "from IPython.core.interactiveshell import InteractiveShell as IS; IS.ast_node_interactivity = \"all\"  # allows multiple prints from a cell\n",
    "from IPython.display import display\n",
    "import numpy as np, pandas as pd, time, matplotlib.pyplot as plt, os, plotly.express as px, xgboost as xgb, re\n",
    "from sklearn.preprocessing import MinMaxScaler, PolynomialFeatures\n",
    "from sklearn.model_selection import train_test_split, GroupKFold\n",
    "from sklearn.linear_model import LogisticRegression as LR\n",
    "from sklearn.metrics import roc_auc_score, f1_score\n",
    "from sklearn.decomposition import PCA\n",
    "from sklearn.neural_network import MLPClassifier\n",
    "import seaborn as sns\n",
    "from sentence_transformers import SentenceTransformer as SBERT\n",
    "from sklearn.ensemble import RandomForestClassifier\n",
    "from sklearn.model_selection import KFold, StratifiedKFold\n",
    "from tqdm.notebook import tqdm_notebook\n",
    "from sklearn.ensemble import GradientBoostingClassifier\n",
    "from catboost import CatBoostClassifier, CatBoostRegressor, Pool\n",
    "from xgboost import XGBClassifier\n",
    "from tqdm.notebook import tqdm\n",
    "import json\n",
    "\n",
    "# Import 3rd party libraries\n",
    "import os\n",
    "import sys\n",
    "import numpy as np\n",
    "import pandas as pd\n",
    "import matplotlib.pylab as plt\n",
    "\n",
    "os.environ['TF_DETERMINISTIC_OPS'] = '1'; os.environ['TF_CUDNN_DETERMINISTIC'] = '1'\n",
    "np.set_printoptions(linewidth=10000, precision=2, edgeitems=20, suppress=True)\n",
    "pd.set_option('display.max_colwidth', 1000, 'display.max_columns', 20, 'display.width', 10000, 'display.max_rows', 8)"
   ]
  },
  {
   "cell_type": "code",
   "execution_count": 2,
   "id": "230000a2-0c78-4689-8995-144a54720b9b",
   "metadata": {
    "tags": []
   },
   "outputs": [],
   "source": [
    "data_df = pd.read_csv(\"task_1/train/train_gts.csv\")\n",
    "meta_df = pd.read_csv(\"task_1/train/train_meta.csv\")\n",
    "test_meta_df = pd.read_csv(\"task_1/test/test_meta.csv\")\n",
    "selected_scp_codes = []\n",
    "selected_words = []"
   ]
  },
  {
   "cell_type": "markdown",
   "id": "dbbc7669-84ff-4a98-852d-5a55b73c5579",
   "metadata": {},
   "source": [
    "# extract features"
   ]
  },
  {
   "cell_type": "code",
   "execution_count": 3,
   "id": "ad9dcc14-d820-4f08-abba-02bd37942668",
   "metadata": {},
   "outputs": [],
   "source": [
    "# подсчет статистик по ЭКГ данным\n",
    "def open_hr_data(filenames, is_train=True):\n",
    "    total_data = []\n",
    "    for filename in tqdm(filenames):\n",
    "        filename = filename.split(\"/\")[-1]\n",
    "        with open(f\"task_1/{'train' if is_train else 'test'}/{filename}.npy\", \"rb\") as f:\n",
    "            data = np.load(f, allow_pickle=True)\n",
    "        stats = []\n",
    "        total_data.append([])\n",
    "        for i in range(12):\n",
    "            # if i in [0, 6]:\n",
    "                total_data[-1].extend([data[i].min(), data[i].max(), data[i].mean()])\n",
    "    columns = []\n",
    "    for i in range(12):\n",
    "        # if i in [0, 6]:\n",
    "            columns.extend([f\"min_{i}\", f\"max_{i}\", f\"mean_{i}\"])\n",
    "    return total_data, columns\n",
    "\n",
    "\n",
    "def prepare_df(df, is_train=True):\n",
    "    global selected_scp_codes, selected_words\n",
    "    \n",
    "    # encode scp_codes to matrix (num_of_patients, num_of_unique_scp_codes)\n",
    "    all_keys = df['scp_codes'].map(lambda x: list(json.loads(x.replace(\"'\", '\"')).items())).to_list()\n",
    "\n",
    "    # создание bag of words (для теста нужно сохранить такие колонки, как и в трейне)\n",
    "    if is_train:\n",
    "        unique_keys = set()\n",
    "        for user_data in all_keys:\n",
    "            for value in user_data:\n",
    "                unique_keys.add(value[0])\n",
    "        unique_keys = list(unique_keys)\n",
    "        selected_scp_codes = unique_keys\n",
    "    else:\n",
    "        unique_keys = selected_scp_codes\n",
    "    scp_codes_matrix = np.empty((len(all_keys), len(unique_keys)))\n",
    "    scp_codes_matrix[:] = np.nan\n",
    "    for i, user_data in enumerate(all_keys):\n",
    "        for value in user_data:\n",
    "            if value[0] in unique_keys:\n",
    "                scp_codes_matrix[i, unique_keys.index(value[0])] = value[1]\n",
    "    df_scp_codes = pd.DataFrame(scp_codes_matrix, columns=unique_keys)  # .add_prefix(\"scp_\")\n",
    "    df = df.join(df_scp_codes)\n",
    "\n",
    "    # создание bag of scp codes аналогично \n",
    "    if is_train:\n",
    "        unique_words = dict()\n",
    "        for text in df[\"translatted_report\"]:\n",
    "            for word in text.split():\n",
    "                if word != \"\":\n",
    "                    if word in unique_words:\n",
    "                        unique_words[word] += 1\n",
    "                    else:\n",
    "                        unique_words[word] = 1\n",
    "        usable_words = [x[0] for x in sorted(unique_words.items(), key=lambda x: -x[1])[:300]]\n",
    "        selected_words = usable_words\n",
    "    else:\n",
    "        usable_words = selected_words\n",
    "    words_matrix = np.empty((len(all_keys), len(usable_words)))\n",
    "    words_matrix[:] = 0\n",
    "    for i, text in enumerate(df[\"translatted_report\"]):\n",
    "        for word in text.split():\n",
    "            if word != \"\" and word in usable_words:\n",
    "                words_matrix[i, usable_words.index(word)] += 1\n",
    "    df_words = pd.DataFrame(words_matrix, columns=usable_words).add_prefix(\"word_\")\n",
    "    df = df.join(df_words)\n",
    "\n",
    "    # change dtype of other columns to str\n",
    "    df[\"device\"] = df[\"device\"].astype(str)\n",
    "    df[\"heart_axis\"] = df[\"heart_axis\"].astype(str)\n",
    "    df[\"baseline_drift\"] = df[\"baseline_drift\"].astype(str)\n",
    "    df[\"static_noise\"] = df[\"static_noise\"].astype(str)\n",
    "    df[\"burst_noise\"] = df[\"burst_noise\"].astype(str)\n",
    "    df[\"electrodes_problems\"] = df[\"electrodes_problems\"].astype(str)\n",
    "    df[\"extra_beats\"] = df[\"extra_beats\"].astype(str)\n",
    "    df[\"pacemaker\"] = df[\"pacemaker\"].astype(str)\n",
    "    df[\"infarction_stadium1\"] = df[\"infarction_stadium1\"].astype(str)\n",
    "    df[\"infarction_stadium2\"] = df[\"infarction_stadium2\"].astype(str)\n",
    "\n",
    "    # encode str datetime to count days till today\n",
    "    df[\"recording_date\"] = df.recording_date.map(lambda x: pd.Timestamp(x))\n",
    "    df[\"recording_date_norm\"] = (df[\"recording_date\"] - pd.Timestamp(2023)).dt.total_seconds()\n",
    "\n",
    "    # статистика по экг данным\n",
    "    hr_opened, columns = open_hr_data(df[\"filename_hr\"].to_list(), is_train=is_train)\n",
    "    df_hr_opened = pd.DataFrame(hr_opened, columns=columns).add_prefix(\"hr_\") #.groupby(\"index\").agg([\"max\", \"min\", \"std\"])\n",
    "    df = df.join(df_hr_opened)\n",
    "\n",
    "    ecg_stats = np.load(\"dnn_output.npy\")\n",
    "    df_ecg_stats = pd.DataFrame(ecg_stats, columns=[\"state\"]).add_prefix(\"ecg_\")\n",
    "    df = df.join(df_ecg_stats)\n",
    "\n",
    "    if is_train:\n",
    "        df = df.drop(columns=['recording_date', 'report', 'scp_codes', 'filename_lr', 'filename_hr', 'record_name', 'patient_id', 'ecg_id', 'translatted_report'])\n",
    "    \n",
    "    return df"
   ]
  },
  {
   "cell_type": "code",
   "execution_count": 4,
   "id": "7f280b8c-5e20-45b7-a123-8dcefac9e0bd",
   "metadata": {},
   "outputs": [],
   "source": [
    "df_merged = pd.merge(meta_df, data_df, on=\"record_name\")\n",
    "# добавляем новые переводы текстов\n",
    "df_merged[\"translatted_report\"] = pd.read_csv(\"reports.csv\")[\"translatted_report\"]\n",
    "# добавляем предикты от resnet модели\n",
    "df_merged = pd.merge(df_merged, pd.read_csv(\"predicted_train.csv\"), on=\"record_name\")"
   ]
  },
  {
   "cell_type": "markdown",
   "id": "a5cb328f-849b-4431-b555-180850acc240",
   "metadata": {},
   "source": [
    "## working with hr data"
   ]
  },
  {
   "cell_type": "markdown",
   "id": "9bdd8091-be31-4fc0-ad88-d77746a1f61a",
   "metadata": {},
   "source": [
    "# TRAIN"
   ]
  },
  {
   "cell_type": "code",
   "execution_count": 5,
   "id": "2d41c9eb-ae10-4a6b-a107-a9f12cb00459",
   "metadata": {},
   "outputs": [
    {
     "data": {
      "application/vnd.jupyter.widget-view+json": {
       "model_id": "b53eb54f01274b7fbd5afffc0cedea64",
       "version_major": 2,
       "version_minor": 0
      },
      "text/plain": [
       "  0%|          | 0/1346 [00:00<?, ?it/s]"
      ]
     },
     "metadata": {},
     "output_type": "display_data"
    }
   ],
   "source": [
    "df_prepared = prepare_df(df_merged)"
   ]
  },
  {
   "cell_type": "code",
   "execution_count": 6,
   "id": "be8dcc76-08ce-41f4-a849-193385034772",
   "metadata": {},
   "outputs": [],
   "source": [
    "train_columns = [\"myocard\"] + [\"infarction_stadium1\", \"ASMI\", \"word_infarction\", \"word_normal\", \"IMI\", \"word_qrs(t)\", \"word_old\", \"ABQRS\", \"word_anteroseptal\",\n",
    "                               \"NORM\", \"heart_axis\", \"word_abnormal\", \"hr_min_5\", \"hr_max_8\", \"hr_max_4\", \"hr_max_1\", \"word_undetermined\", \"age\", \"word_sinus\",\n",
    "                               \"hr_max_9\", \"word_left\", \"nurse\", \"word_ii,\", \"word_complexes\", \"QWAVE\", \"hr_min_9\", \"word_consistent\", \"word_infarct\", \"LAFB\", # \"word_446\",\n",
    "                               \"hr_max_5\", \"word_inferior\", \"word_report\", \"hr_min_10\", \"hr_max_3\", \"word_waves\", \"word_segments\", \"strat_fold\", \"word_but\", \"word_qs\", \"ILMI\"]"
   ]
  },
  {
   "cell_type": "code",
   "execution_count": 7,
   "id": "386f50fd-342e-4983-acda-9cfa8d4afd9e",
   "metadata": {},
   "outputs": [],
   "source": [
    "train_columns = train_columns + [\"dl_score\"]"
   ]
  },
  {
   "cell_type": "markdown",
   "id": "d0485df5-4323-4cff-be6b-269bf4a185c0",
   "metadata": {},
   "source": [
    "## catboost + cross-validation"
   ]
  },
  {
   "cell_type": "code",
   "execution_count": 8,
   "id": "5fbbd749-8a91-417e-a20c-1325eb7874dc",
   "metadata": {},
   "outputs": [],
   "source": [
    "n_splits = 5\n",
    "\n",
    "selected_columns = [x for x in train_columns if x != \"myocard\"] \n",
    "train_df = df_prepared.copy()[train_columns]\n",
    "cat_features = [x for x in [\"device\", \"heart_axis\", \"baseline_drift\", \"static_noise\",\n",
    "                \"burst_noise\", \"electrodes_problems\", \"extra_beats\", \"pacemaker\",\n",
    "               \"infarction_stadium1\", \"infarction_stadium2\"] if x in train_columns]\n",
    "\n",
    "for col in cat_features:\n",
    "    train_df[col] = train_df[col].astype('category')\n",
    "\n",
    "X = train_df.drop(columns=[\"myocard\"])\n",
    "y = train_df[\"myocard\"]"
   ]
  },
  {
   "cell_type": "code",
   "execution_count": 9,
   "id": "9e1e0bcc-0810-4b5a-a5fc-36d977c5ccda",
   "metadata": {},
   "outputs": [
    {
     "name": "stdout",
     "output_type": "stream",
     "text": [
      "0:\tlearn: 0.8352257\ttest: 0.8698691\tbest: 0.8698691 (0)\ttotal: 142ms\tremaining: 1m 10s\n",
      "100:\tlearn: 0.9183381\ttest: 0.9137913\tbest: 0.9178332 (55)\ttotal: 5.66s\tremaining: 22.3s\n",
      "Stopped by overfitting detector  (50 iterations wait)\n",
      "\n",
      "bestTest = 0.9178332319\n",
      "bestIteration = 55\n",
      "\n",
      "Shrink model to first 56 iterations.\n"
     ]
    },
    {
     "data": {
      "text/plain": [
       "<catboost.core.CatBoostClassifier at 0x1e4e13e6110>"
      ]
     },
     "execution_count": 9,
     "metadata": {},
     "output_type": "execute_result"
    },
    {
     "name": "stdout",
     "output_type": "stream",
     "text": [
      "\n",
      "fold: f1 score: 0.9178332318928788 \n",
      "\n",
      "0:\tlearn: 0.8634545\ttest: 0.7973680\tbest: 0.7973680 (0)\ttotal: 75.9ms\tremaining: 37.9s\n",
      "100:\tlearn: 0.9281829\ttest: 0.8739203\tbest: 0.8947792 (56)\ttotal: 5.64s\tremaining: 22.3s\n",
      "Stopped by overfitting detector  (50 iterations wait)\n",
      "\n",
      "bestTest = 0.8947792274\n",
      "bestIteration = 56\n",
      "\n",
      "Shrink model to first 57 iterations.\n"
     ]
    },
    {
     "data": {
      "text/plain": [
       "<catboost.core.CatBoostClassifier at 0x1e4c1f27d90>"
      ]
     },
     "execution_count": 9,
     "metadata": {},
     "output_type": "execute_result"
    },
    {
     "name": "stdout",
     "output_type": "stream",
     "text": [
      "\n",
      "fold: f1 score: 0.8947792273532593 \n",
      "\n",
      "0:\tlearn: 0.8661496\ttest: 0.7608474\tbest: 0.7608474 (0)\ttotal: 89.9ms\tremaining: 44.8s\n",
      "100:\tlearn: 0.9185174\ttest: 0.9060098\tbest: 0.9060098 (75)\ttotal: 6.13s\tremaining: 24.2s\n",
      "Stopped by overfitting detector  (50 iterations wait)\n",
      "\n",
      "bestTest = 0.9060097834\n",
      "bestIteration = 75\n",
      "\n",
      "Shrink model to first 76 iterations.\n"
     ]
    },
    {
     "data": {
      "text/plain": [
       "<catboost.core.CatBoostClassifier at 0x1e4c1f27e20>"
      ]
     },
     "execution_count": 9,
     "metadata": {},
     "output_type": "execute_result"
    },
    {
     "name": "stdout",
     "output_type": "stream",
     "text": [
      "\n",
      "fold: f1 score: 0.906009783368274 \n",
      "\n",
      "0:\tlearn: 0.8338456\ttest: 0.8245016\tbest: 0.8245016 (0)\ttotal: 94.4ms\tremaining: 47.1s\n",
      "Stopped by overfitting detector  (50 iterations wait)\n",
      "\n",
      "bestTest = 0.9060097834\n",
      "bestIteration = 36\n",
      "\n",
      "Shrink model to first 37 iterations.\n"
     ]
    },
    {
     "data": {
      "text/plain": [
       "<catboost.core.CatBoostClassifier at 0x1e4e13f1810>"
      ]
     },
     "execution_count": 9,
     "metadata": {},
     "output_type": "execute_result"
    },
    {
     "name": "stdout",
     "output_type": "stream",
     "text": [
      "\n",
      "fold: f1 score: 0.906009783368274 \n",
      "\n",
      "0:\tlearn: 0.8589432\ttest: 0.8426594\tbest: 0.8426594 (0)\ttotal: 161ms\tremaining: 1m 20s\n",
      "100:\tlearn: 0.9155544\ttest: 0.9219507\tbest: 0.9219507 (99)\ttotal: 5.8s\tremaining: 22.9s\n",
      "Stopped by overfitting detector  (50 iterations wait)\n",
      "\n",
      "bestTest = 0.9219506751\n",
      "bestIteration = 99\n",
      "\n",
      "Shrink model to first 100 iterations.\n"
     ]
    },
    {
     "data": {
      "text/plain": [
       "<catboost.core.CatBoostClassifier at 0x1e4e0fe2b60>"
      ]
     },
     "execution_count": 9,
     "metadata": {},
     "output_type": "execute_result"
    },
    {
     "name": "stdout",
     "output_type": "stream",
     "text": [
      "\n",
      "fold: f1 score: 0.921950675147863 \n",
      "\n",
      "mean f1 score ====>>> 0.90931654 <<<==== 0.0096 \n",
      "\n"
     ]
    }
   ],
   "source": [
    "clfs = []\n",
    "scores = []\n",
    "kf = StratifiedKFold(n_splits=n_splits, shuffle=True, random_state=0)\n",
    "\n",
    "for train_index, test_index in kf.split(X, y):\n",
    "\n",
    "    X_train, X_test = X.iloc[train_index], X.iloc[test_index]\n",
    "    y_train, y_test = y.iloc[train_index], y.iloc[test_index]\n",
    "    \n",
    "    clf = CatBoostClassifier(\n",
    "        depth=10,\n",
    "        iterations=500,\n",
    "        learning_rate=0.06,\n",
    "        loss_function=\"MultiClass\", \n",
    "        eval_metric=\"TotalF1:average=Macro\", \n",
    "        custom_metric=\"TotalF1:average=Macro\",\n",
    "        boosting_type=\"Ordered\",\n",
    "        \n",
    "        # Главная фишка катбуста - работа с категориальными признаками\n",
    "        cat_features=cat_features,\n",
    "        # ignored_features = ignored_features,\n",
    "        \n",
    "        # Регуляризация и ускорение\n",
    "        colsample_bylevel=0.098,\n",
    "        subsample=0.95,\n",
    "        l2_leaf_reg=9,\n",
    "        min_data_in_leaf=243,\n",
    "        max_bin=187,\n",
    "        random_strength=1,\n",
    "        \n",
    "        # Параметры ускорения\n",
    "        task_type=\"CPU\",    \n",
    "        thread_count=-1,\n",
    "        bootstrap_type=\"Bernoulli\", \n",
    "        \n",
    "        # Важное!\n",
    "        random_seed=7575,\n",
    "        # auto_class_weights=\"SqrtBalanced\",\n",
    "        early_stopping_rounds=50)\n",
    "\n",
    "    clfs.append(clf)\n",
    "\n",
    "    clf.fit(\n",
    "        X_train, y_train,\n",
    "        eval_set=(X_test, y_test),\n",
    "        verbose=100,\n",
    "        use_best_model=True,\n",
    "        plot=False)\n",
    "\n",
    "    y_pred = clf.predict(X_test)\n",
    "    score = f1_score(y_test, y_pred, average=\"macro\")  # np.mean(np.array(y_pred == y_test))\n",
    "    scores.append(score)\n",
    "    print(f\"\\nfold: f1 score: {score} \\n\")\n",
    "\n",
    "assert len(clfs) == n_splits\n",
    "print(\n",
    "    \"mean f1 score ====>>> \" + str(np.mean(scores, dtype=\"float32\")) + \" <<<====\", np.std(scores).round(4), \"\\n\"\n",
    ")"
   ]
  },
  {
   "cell_type": "markdown",
   "id": "4dfe4505-603a-4c1e-9ca9-113de93dab12",
   "metadata": {},
   "source": [
    "## Get catboost features importances"
   ]
  },
  {
   "cell_type": "code",
   "execution_count": 10,
   "id": "5ec2664f-d671-41c3-b20a-53a119d34ccc",
   "metadata": {
    "tags": []
   },
   "outputs": [
    {
     "name": "stdout",
     "output_type": "stream",
     "text": [
      "['dl_score', 'infarction_stadium1', 'ASMI', 'word_infarction', 'word_old', 'word_qrs(t)', 'IMI', 'word_inferior', 'ABQRS', 'word_anteroseptal', 'NORM', 'word_normal', 'nurse', 'hr_max_8', 'hr_max_5', 'age', 'word_undetermined', 'hr_max_1', 'hr_max_9', 'hr_min_5', 'word_report', 'word_left', 'hr_min_9', 'hr_max_4', 'hr_max_3', 'hr_min_10', 'QWAVE', 'word_abnormal', 'word_consistent', 'ILMI', 'LAFB', 'heart_axis', 'word_waves', 'word_complexes', 'strat_fold', 'word_segments', 'word_but', 'word_sinus', 'word_qs', 'word_ii,', 'word_infarct']\n",
      "Всего признаков 41 Усреднее по 5-ти моделям: \n",
      "На график нанесено топ-41 признаков\n"
     ]
    },
    {
     "data": {
      "image/png": "[encoded data removed]",
      "text/plain": [
       "<Figure size 1440x1180.8 with 1 Axes>"
      ]
     },
     "metadata": {
      "needs_background": "light"
     },
     "output_type": "display_data"
    }
   ],
   "source": [
    "def plot_importance(df, best_model, height, top_n=50):\n",
    "\n",
    "    top_n = min(top_n, df.shape[1])\n",
    "\n",
    "    # Извлекаем значения из модели\n",
    "    fi = pd.DataFrame(index=df.columns, columns=[])\n",
    "    for i, m in enumerate(best_model):\n",
    "        fi[f\"m_{i}\"] = m.feature_importances_\n",
    "\n",
    "    fi = fi.stack().reset_index().iloc[:, [0, 2]]\n",
    "    fi.columns = [\"feature\", \"importance\"]\n",
    "\n",
    "    # Определяем порядок признаков и отбираем только n признаков для отрисовки\n",
    "    cols_ord = (\n",
    "        fi.groupby(\"feature\")[\"importance\"]\n",
    "        .mean()\n",
    "        .sort_values(ascending=False)\n",
    "        .index.tolist()\n",
    "    )\n",
    "    \n",
    "    print(cols_ord)\n",
    "    \n",
    "    cols_ord = cols_ord[:top_n]\n",
    "\n",
    "    fi = fi[fi[\"feature\"].isin(cols_ord)]  # Выравниваем порядок по убыванию важности\n",
    "    print( \"Всего признаков {} Усреднее по {}-ти моделям: \".format(len(cols_ord), len(best_model)))\n",
    "\n",
    "    # Отрисовываем боксплоты фичей\n",
    "    plt.figure(figsize=(20, len(cols_ord) * height))\n",
    "    b = sns.boxplot(data=fi, y=\"feature\", x=\"importance\", orient=\"h\", order=cols_ord)\n",
    "\n",
    "    print(\"На график нанесено топ-{} признаков\".format(top_n))\n",
    "    return (\n",
    "        fi.groupby(by=[\"feature\"], as_index=False)[\"importance\"]\n",
    "        .mean()\n",
    "        .sort_values(by=\"importance\", ascending=False)\n",
    "    )\n",
    "\n",
    "\n",
    "df_feats_imp = plot_importance(\n",
    "    X, #train[filtered_features].drop(targets, axis=1, errors=\"ignore\"),\n",
    "    clfs,\n",
    "    0.40,\n",
    "    top_n=100,\n",
    ")"
   ]
  },
  {
   "cell_type": "markdown",
   "id": "555476fb-73db-413d-bb58-d2f0f155377a",
   "metadata": {},
   "source": [
    "## Selecting best params for catboost"
   ]
  },
  {
   "cell_type": "code",
   "execution_count": 11,
   "id": "2618b79a-b95b-4fd0-b2ad-421d36304cb9",
   "metadata": {},
   "outputs": [],
   "source": [
    "X_train, X_test, y_train, y_test = train_test_split(X, y, test_size=0.3, stratify=y)"
   ]
  },
  {
   "cell_type": "code",
   "execution_count": 12,
   "id": "76f6d4e0-8a55-4367-9128-b8971ce7dfc4",
   "metadata": {},
   "outputs": [],
   "source": [
    "import catboost as cb\n",
    "from sklearn.metrics import mean_squared_error\n",
    "import optuna\n",
    "\n",
    "def objective(trial):\n",
    "    params = {\n",
    "        \"iterations\": 1000,\n",
    "        \"learning_rate\": trial.suggest_float(\"learning_rate\", 1e-3, 0.1, log=True),\n",
    "        \"depth\": trial.suggest_int(\"depth\", 1, 10),\n",
    "        \"subsample\": trial.suggest_float(\"subsample\", 0.05, 1.0),\n",
    "        \"colsample_bylevel\": trial.suggest_float(\"colsample_bylevel\", 0.05, 1.0),\n",
    "        \"min_data_in_leaf\": trial.suggest_int(\"min_data_in_leaf\", 1, 100),\n",
    "\n",
    "        \"loss_function\": \"MultiClass\",  # MultiLogloss MultiClass\n",
    "        \"eval_metric\": \"TotalF1:average=Macro\",  # 'AUC / Accuracy,\n",
    "        \"custom_metric\": \"TotalF1:average=Macro\",\n",
    "        \"boosting_type\": \"Ordered\",\n",
    "        \n",
    "        # Главная фишка катбуста - работа с категориальными признаками\n",
    "        \"cat_features\": cat_features,\n",
    "        # ignored_features = ignored_features,\n",
    "        \n",
    "        # Регуляризация и ускорение\n",
    "        \"l2_leaf_reg\": 9,\n",
    "        \"max_bin\": 187,\n",
    "        \"random_strength\": 1,\n",
    "        \n",
    "        # Параметры скорения\n",
    "        \"task_type\": \"CPU\",    \n",
    "        \"thread_count\": -1,\n",
    "        \"bootstrap_type\": \"Bernoulli\", \n",
    "        \n",
    "        # Важное!\n",
    "        \"random_seed\": 7575,\n",
    "    #    auto_class_weights=\"SqrtBalanced\",\n",
    "        \"early_stopping_rounds\": 50\n",
    "    }\n",
    "\n",
    "    model = cb.CatBoostClassifier(**params, silent=True)\n",
    "    model.fit(X_train, y_train)\n",
    "    predictions = model.predict(X_test)\n",
    "    rmse = f1_score(y_test, predictions, average=\"macro\")\n",
    "    return rmse"
   ]
  },
  {
   "cell_type": "code",
   "execution_count": 13,
   "id": "587ae770-d619-4fcb-b9f8-3997b5f1f69d",
   "metadata": {},
   "outputs": [],
   "source": [
    "# study = optuna.create_study(direction='maximize')\n",
    "# study.optimize(objective, n_trials=30)"
   ]
  },
  {
   "cell_type": "code",
   "execution_count": 14,
   "id": "3a083806-ef89-4b2b-9022-8b6cec97211d",
   "metadata": {},
   "outputs": [],
   "source": [
    "# study.best_trial.params"
   ]
  },
  {
   "cell_type": "markdown",
   "id": "9a6694b7-68c2-447a-aa9e-5ca91228bbbe",
   "metadata": {},
   "source": [
    "## Get SHAP-values"
   ]
  },
  {
   "cell_type": "code",
   "execution_count": 15,
   "id": "633c64d4-6156-4e9d-aa08-945d0c4af1fc",
   "metadata": {},
   "outputs": [
    {
     "data": {
      "image/png": "[encoded data removed]",
      "text/plain": [
       "<Figure size 576x1288.8 with 1 Axes>"
      ]
     },
     "metadata": {
      "needs_background": "light"
     },
     "output_type": "display_data"
    }
   ],
   "source": [
    "# Посмотрим на SHAP values\n",
    "import shap\n",
    "\n",
    "explainer = shap.TreeExplainer(clfs[0])\n",
    "\n",
    "val_dataset = Pool(data=X_test, label=y_test, cat_features=cat_features)\n",
    "shap_values = explainer.shap_values(val_dataset)\n",
    "shap.summary_plot(shap_values, X_test, max_display=100)"
   ]
  },
  {
   "cell_type": "markdown",
   "id": "11b39d55-e16d-4ef7-bcb3-266cb542f564",
   "metadata": {},
   "source": [
    "# make predicts"
   ]
  },
  {
   "cell_type": "code",
   "execution_count": 16,
   "id": "5cb201dd-acc8-4807-b868-96591aa9f744",
   "metadata": {},
   "outputs": [
    {
     "data": {
      "application/vnd.jupyter.widget-view+json": {
       "model_id": "fc34f3a52b424645bbfac9bfe971fe26",
       "version_major": 2,
       "version_minor": 0
      },
      "text/plain": [
       "  0%|          | 0/449 [00:00<?, ?it/s]"
      ]
     },
     "metadata": {},
     "output_type": "display_data"
    }
   ],
   "source": [
    "test_meta_df = pd.read_csv(\"task_1/test/test_meta.csv\")\n",
    "sample_df = pd.read_csv(\"sample.csv\")\n",
    "test_meta_df[\"translatted_report\"] = pd.read_csv(\"reports_test.csv\")[\"translatted_report\"]\n",
    "test_meta_df = pd.merge(test_meta_df, pd.read_csv(\"predicted_test.csv\"))\n",
    "test_meta_df[\"dl_score\"] = test_meta_df[\"predict\"]\n",
    "test_prepared_df = prepare_df(test_meta_df, is_train=False)"
   ]
  },
  {
   "cell_type": "code",
   "execution_count": 17,
   "id": "3503ee45-a7f3-4fc6-9d13-93c2869d21d7",
   "metadata": {},
   "outputs": [
    {
     "data": {
      "text/html": [
       "<div>\n",
       "<style scoped>\n",
       "    .dataframe tbody tr th:only-of-type {\n",
       "        vertical-align: middle;\n",
       "    }\n",
       "\n",
       "    .dataframe tbody tr th {\n",
       "        vertical-align: top;\n",
       "    }\n",
       "\n",
       "    .dataframe thead th {\n",
       "        text-align: right;\n",
       "    }\n",
       "</style>\n",
       "<table border=\"1\" class=\"dataframe\">\n",
       "  <thead>\n",
       "    <tr style=\"text-align: right;\">\n",
       "      <th></th>\n",
       "      <th>record_name</th>\n",
       "      <th>myocard_x</th>\n",
       "      <th>myocard</th>\n",
       "    </tr>\n",
       "  </thead>\n",
       "  <tbody>\n",
       "    <tr>\n",
       "      <th>0</th>\n",
       "      <td>01165_hr</td>\n",
       "      <td>1</td>\n",
       "      <td>0</td>\n",
       "    </tr>\n",
       "    <tr>\n",
       "      <th>1</th>\n",
       "      <td>01252_hr</td>\n",
       "      <td>1</td>\n",
       "      <td>0</td>\n",
       "    </tr>\n",
       "    <tr>\n",
       "      <th>2</th>\n",
       "      <td>02668_hr</td>\n",
       "      <td>1</td>\n",
       "      <td>0</td>\n",
       "    </tr>\n",
       "    <tr>\n",
       "      <th>3</th>\n",
       "      <td>04165_hr</td>\n",
       "      <td>1</td>\n",
       "      <td>0</td>\n",
       "    </tr>\n",
       "    <tr>\n",
       "      <th>...</th>\n",
       "      <td>...</td>\n",
       "      <td>...</td>\n",
       "      <td>...</td>\n",
       "    </tr>\n",
       "    <tr>\n",
       "      <th>445</th>\n",
       "      <td>15114_hr</td>\n",
       "      <td>0</td>\n",
       "      <td>0</td>\n",
       "    </tr>\n",
       "    <tr>\n",
       "      <th>446</th>\n",
       "      <td>15819_hr</td>\n",
       "      <td>0</td>\n",
       "      <td>0</td>\n",
       "    </tr>\n",
       "    <tr>\n",
       "      <th>447</th>\n",
       "      <td>19041_hr</td>\n",
       "      <td>1</td>\n",
       "      <td>0</td>\n",
       "    </tr>\n",
       "    <tr>\n",
       "      <th>448</th>\n",
       "      <td>19918_hr</td>\n",
       "      <td>1</td>\n",
       "      <td>0</td>\n",
       "    </tr>\n",
       "  </tbody>\n",
       "</table>\n",
       "<p>449 rows × 3 columns</p>\n",
       "</div>"
      ],
      "text/plain": [
       "    record_name  myocard_x  myocard\n",
       "0      01165_hr          1        0\n",
       "1      01252_hr          1        0\n",
       "2      02668_hr          1        0\n",
       "3      04165_hr          1        0\n",
       "..          ...        ...      ...\n",
       "445    15114_hr          0        0\n",
       "446    15819_hr          0        0\n",
       "447    19041_hr          1        0\n",
       "448    19918_hr          1        0\n",
       "\n",
       "[449 rows x 3 columns]"
      ]
     },
     "execution_count": 17,
     "metadata": {},
     "output_type": "execute_result"
    }
   ],
   "source": [
    "# массив для записи финального прогноза size*n_class\n",
    "test_data = test_prepared_df.copy()\n",
    "X_test = test_data[selected_columns]\n",
    "y_pred = np.zeros((X_test.shape[0], df_prepared[\"myocard\"].nunique()))\n",
    "\n",
    "# Используем все модели из списка clfs для инференса\n",
    "for n, clf in enumerate(clfs):\n",
    "    y_pred += clf.predict_proba(X_test)\n",
    "\n",
    "test_df = pd.DataFrame()\n",
    "test_df[\"record_name\"] = test_meta_df[\"record_name\"]\n",
    "\n",
    "f = lambda x: clf.classes_[x]\n",
    "test_df[\"myocard\"] = list(map(f, y_pred.argmax(axis=1)))\n",
    "\n",
    "total_df = sample_df.merge(test_df, on=\"record_name\", suffixes=(\"_x\", \"\"))\n",
    "total_df[[\"record_name\", \"myocard\"]].to_csv(\"submit.csv\", index=False)\n",
    "total_df"
   ]
  },
  {
   "cell_type": "code",
   "execution_count": 18,
   "id": "27d133e8-c4c5-45a9-9b90-dde12e211f2b",
   "metadata": {},
   "outputs": [
    {
     "data": {
      "application/vnd.jupyter.widget-view+json": {
       "model_id": "22555b0fd431439db827cdd0d7a708c7",
       "version_major": 2,
       "version_minor": 0
      },
      "text/plain": [
       "  0%|          | 0/449 [00:00<?, ?it/s]"
      ]
     },
     "metadata": {},
     "output_type": "display_data"
    }
   ],
   "source": [
    "test_with_preds = test_meta_df.merge(total_df[[\"record_name\", \"myocard\"]], on=\"record_name\")\n",
    "test_preds_df = prepare_df(test_with_preds, is_train=False)\n",
    "probs = [100]\n",
    "test_preds_df.loc[test_preds_df[\"AMI\"].isin(probs) | (test_preds_df[\"IPMI\"].isin(probs)) |\n",
    "              test_preds_df[\"LMI\"].isin(probs) | (test_preds_df[\"IPLMI\"].isin(probs)) |\n",
    "              test_preds_df[\"ILMI\"].isin(probs) | (test_preds_df[\"IMI\"].isin(probs)) |\n",
    "              (test_preds_df[\"ASMI\"].isin(probs)) |\n",
    "              test_preds_df[\"ALMI\"].isin(probs), \"myocard\"] = 1"
   ]
  },
  {
   "cell_type": "code",
   "execution_count": 19,
   "id": "73451179-4300-45a9-be1c-bb8609621958",
   "metadata": {},
   "outputs": [
    {
     "data": {
      "text/html": [
       "<div>\n",
       "<style scoped>\n",
       "    .dataframe tbody tr th:only-of-type {\n",
       "        vertical-align: middle;\n",
       "    }\n",
       "\n",
       "    .dataframe tbody tr th {\n",
       "        vertical-align: top;\n",
       "    }\n",
       "\n",
       "    .dataframe thead th {\n",
       "        text-align: right;\n",
       "    }\n",
       "</style>\n",
       "<table border=\"1\" class=\"dataframe\">\n",
       "  <thead>\n",
       "    <tr style=\"text-align: right;\">\n",
       "      <th></th>\n",
       "      <th>record_name</th>\n",
       "      <th>myocard_x</th>\n",
       "      <th>ecg_id</th>\n",
       "      <th>patient_id</th>\n",
       "      <th>age</th>\n",
       "      <th>sex</th>\n",
       "      <th>height</th>\n",
       "      <th>weight</th>\n",
       "      <th>nurse</th>\n",
       "      <th>site</th>\n",
       "      <th>...</th>\n",
       "      <th>hr_min_9</th>\n",
       "      <th>hr_max_9</th>\n",
       "      <th>hr_mean_9</th>\n",
       "      <th>hr_min_10</th>\n",
       "      <th>hr_max_10</th>\n",
       "      <th>hr_mean_10</th>\n",
       "      <th>hr_min_11</th>\n",
       "      <th>hr_max_11</th>\n",
       "      <th>hr_mean_11</th>\n",
       "      <th>ecg_state</th>\n",
       "    </tr>\n",
       "  </thead>\n",
       "  <tbody>\n",
       "    <tr>\n",
       "      <th>0</th>\n",
       "      <td>01165_hr</td>\n",
       "      <td>1</td>\n",
       "      <td>1165</td>\n",
       "      <td>1413.0</td>\n",
       "      <td>33.0</td>\n",
       "      <td>0</td>\n",
       "      <td>166.0</td>\n",
       "      <td>70.0</td>\n",
       "      <td>3.0</td>\n",
       "      <td>1.0</td>\n",
       "      <td>...</td>\n",
       "      <td>-0.501</td>\n",
       "      <td>3.214</td>\n",
       "      <td>-0.008304</td>\n",
       "      <td>-0.446</td>\n",
       "      <td>2.276</td>\n",
       "      <td>-0.003498</td>\n",
       "      <td>-0.350</td>\n",
       "      <td>1.839</td>\n",
       "      <td>-0.006675</td>\n",
       "      <td>0.000025</td>\n",
       "    </tr>\n",
       "    <tr>\n",
       "      <th>1</th>\n",
       "      <td>01252_hr</td>\n",
       "      <td>1</td>\n",
       "      <td>1252</td>\n",
       "      <td>10312.0</td>\n",
       "      <td>28.0</td>\n",
       "      <td>1</td>\n",
       "      <td>NaN</td>\n",
       "      <td>59.0</td>\n",
       "      <td>0.0</td>\n",
       "      <td>0.0</td>\n",
       "      <td>...</td>\n",
       "      <td>-0.449</td>\n",
       "      <td>1.915</td>\n",
       "      <td>0.000298</td>\n",
       "      <td>-0.396</td>\n",
       "      <td>1.677</td>\n",
       "      <td>-0.002583</td>\n",
       "      <td>-0.435</td>\n",
       "      <td>1.300</td>\n",
       "      <td>-0.002842</td>\n",
       "      <td>0.000224</td>\n",
       "    </tr>\n",
       "    <tr>\n",
       "      <th>2</th>\n",
       "      <td>02668_hr</td>\n",
       "      <td>1</td>\n",
       "      <td>2668</td>\n",
       "      <td>3019.0</td>\n",
       "      <td>55.0</td>\n",
       "      <td>0</td>\n",
       "      <td>184.0</td>\n",
       "      <td>97.0</td>\n",
       "      <td>6.0</td>\n",
       "      <td>1.0</td>\n",
       "      <td>...</td>\n",
       "      <td>-1.360</td>\n",
       "      <td>1.300</td>\n",
       "      <td>-0.014928</td>\n",
       "      <td>-1.565</td>\n",
       "      <td>1.570</td>\n",
       "      <td>-0.011762</td>\n",
       "      <td>-2.135</td>\n",
       "      <td>2.855</td>\n",
       "      <td>-0.009292</td>\n",
       "      <td>0.000073</td>\n",
       "    </tr>\n",
       "    <tr>\n",
       "      <th>3</th>\n",
       "      <td>04165_hr</td>\n",
       "      <td>1</td>\n",
       "      <td>4165</td>\n",
       "      <td>20642.0</td>\n",
       "      <td>31.0</td>\n",
       "      <td>0</td>\n",
       "      <td>NaN</td>\n",
       "      <td>91.0</td>\n",
       "      <td>0.0</td>\n",
       "      <td>0.0</td>\n",
       "      <td>...</td>\n",
       "      <td>-0.561</td>\n",
       "      <td>1.481</td>\n",
       "      <td>-0.006428</td>\n",
       "      <td>-0.325</td>\n",
       "      <td>1.430</td>\n",
       "      <td>0.000058</td>\n",
       "      <td>-0.299</td>\n",
       "      <td>1.190</td>\n",
       "      <td>-0.001265</td>\n",
       "      <td>0.199707</td>\n",
       "    </tr>\n",
       "    <tr>\n",
       "      <th>...</th>\n",
       "      <td>...</td>\n",
       "      <td>...</td>\n",
       "      <td>...</td>\n",
       "      <td>...</td>\n",
       "      <td>...</td>\n",
       "      <td>...</td>\n",
       "      <td>...</td>\n",
       "      <td>...</td>\n",
       "      <td>...</td>\n",
       "      <td>...</td>\n",
       "      <td>...</td>\n",
       "      <td>...</td>\n",
       "      <td>...</td>\n",
       "      <td>...</td>\n",
       "      <td>...</td>\n",
       "      <td>...</td>\n",
       "      <td>...</td>\n",
       "      <td>...</td>\n",
       "      <td>...</td>\n",
       "      <td>...</td>\n",
       "      <td>...</td>\n",
       "    </tr>\n",
       "    <tr>\n",
       "      <th>445</th>\n",
       "      <td>15114_hr</td>\n",
       "      <td>0</td>\n",
       "      <td>15114</td>\n",
       "      <td>1618.0</td>\n",
       "      <td>63.0</td>\n",
       "      <td>1</td>\n",
       "      <td>160.0</td>\n",
       "      <td>62.0</td>\n",
       "      <td>3.0</td>\n",
       "      <td>1.0</td>\n",
       "      <td>...</td>\n",
       "      <td>-1.274</td>\n",
       "      <td>0.691</td>\n",
       "      <td>-0.003710</td>\n",
       "      <td>-0.616</td>\n",
       "      <td>0.730</td>\n",
       "      <td>0.002000</td>\n",
       "      <td>-0.366</td>\n",
       "      <td>0.588</td>\n",
       "      <td>-0.001910</td>\n",
       "      <td>0.000065</td>\n",
       "    </tr>\n",
       "    <tr>\n",
       "      <th>446</th>\n",
       "      <td>15819_hr</td>\n",
       "      <td>0</td>\n",
       "      <td>15819</td>\n",
       "      <td>8682.0</td>\n",
       "      <td>57.0</td>\n",
       "      <td>1</td>\n",
       "      <td>NaN</td>\n",
       "      <td>90.0</td>\n",
       "      <td>0.0</td>\n",
       "      <td>0.0</td>\n",
       "      <td>...</td>\n",
       "      <td>-0.322</td>\n",
       "      <td>0.806</td>\n",
       "      <td>-0.002522</td>\n",
       "      <td>-0.285</td>\n",
       "      <td>0.942</td>\n",
       "      <td>-0.004120</td>\n",
       "      <td>-0.243</td>\n",
       "      <td>0.967</td>\n",
       "      <td>-0.004188</td>\n",
       "      <td>0.000905</td>\n",
       "    </tr>\n",
       "    <tr>\n",
       "      <th>447</th>\n",
       "      <td>19041_hr</td>\n",
       "      <td>1</td>\n",
       "      <td>19041</td>\n",
       "      <td>16613.0</td>\n",
       "      <td>42.0</td>\n",
       "      <td>0</td>\n",
       "      <td>NaN</td>\n",
       "      <td>NaN</td>\n",
       "      <td>0.0</td>\n",
       "      <td>0.0</td>\n",
       "      <td>...</td>\n",
       "      <td>-0.224</td>\n",
       "      <td>0.947</td>\n",
       "      <td>-0.000828</td>\n",
       "      <td>-0.129</td>\n",
       "      <td>1.224</td>\n",
       "      <td>0.000970</td>\n",
       "      <td>-0.089</td>\n",
       "      <td>1.043</td>\n",
       "      <td>-0.001082</td>\n",
       "      <td>0.001375</td>\n",
       "    </tr>\n",
       "    <tr>\n",
       "      <th>448</th>\n",
       "      <td>19918_hr</td>\n",
       "      <td>1</td>\n",
       "      <td>19918</td>\n",
       "      <td>18300.0</td>\n",
       "      <td>44.0</td>\n",
       "      <td>0</td>\n",
       "      <td>NaN</td>\n",
       "      <td>NaN</td>\n",
       "      <td>0.0</td>\n",
       "      <td>0.0</td>\n",
       "      <td>...</td>\n",
       "      <td>-0.168</td>\n",
       "      <td>2.160</td>\n",
       "      <td>0.002082</td>\n",
       "      <td>-0.171</td>\n",
       "      <td>1.526</td>\n",
       "      <td>0.000361</td>\n",
       "      <td>-0.149</td>\n",
       "      <td>0.976</td>\n",
       "      <td>-0.001730</td>\n",
       "      <td>0.002234</td>\n",
       "    </tr>\n",
       "  </tbody>\n",
       "</table>\n",
       "<p>449 rows × 441 columns</p>\n",
       "</div>"
      ],
      "text/plain": [
       "    record_name  myocard_x  ecg_id  patient_id   age  sex  height  weight  nurse  site  ... hr_min_9 hr_max_9 hr_mean_9 hr_min_10 hr_max_10 hr_mean_10 hr_min_11  hr_max_11  hr_mean_11  ecg_state\n",
       "0      01165_hr          1    1165      1413.0  33.0    0   166.0    70.0    3.0   1.0  ...   -0.501    3.214 -0.008304    -0.446     2.276  -0.003498    -0.350      1.839   -0.006675   0.000025\n",
       "1      01252_hr          1    1252     10312.0  28.0    1     NaN    59.0    0.0   0.0  ...   -0.449    1.915  0.000298    -0.396     1.677  -0.002583    -0.435      1.300   -0.002842   0.000224\n",
       "2      02668_hr          1    2668      3019.0  55.0    0   184.0    97.0    6.0   1.0  ...   -1.360    1.300 -0.014928    -1.565     1.570  -0.011762    -2.135      2.855   -0.009292   0.000073\n",
       "3      04165_hr          1    4165     20642.0  31.0    0     NaN    91.0    0.0   0.0  ...   -0.561    1.481 -0.006428    -0.325     1.430   0.000058    -0.299      1.190   -0.001265   0.199707\n",
       "..          ...        ...     ...         ...   ...  ...     ...     ...    ...   ...  ...      ...      ...       ...       ...       ...        ...       ...        ...         ...        ...\n",
       "445    15114_hr          0   15114      1618.0  63.0    1   160.0    62.0    3.0   1.0  ...   -1.274    0.691 -0.003710    -0.616     0.730   0.002000    -0.366      0.588   -0.001910   0.000065\n",
       "446    15819_hr          0   15819      8682.0  57.0    1     NaN    90.0    0.0   0.0  ...   -0.322    0.806 -0.002522    -0.285     0.942  -0.004120    -0.243      0.967   -0.004188   0.000905\n",
       "447    19041_hr          1   19041     16613.0  42.0    0     NaN     NaN    0.0   0.0  ...   -0.224    0.947 -0.000828    -0.129     1.224   0.000970    -0.089      1.043   -0.001082   0.001375\n",
       "448    19918_hr          1   19918     18300.0  44.0    0     NaN     NaN    0.0   0.0  ...   -0.168    2.160  0.002082    -0.171     1.526   0.000361    -0.149      0.976   -0.001730   0.002234\n",
       "\n",
       "[449 rows x 441 columns]"
      ]
     },
     "execution_count": 19,
     "metadata": {},
     "output_type": "execute_result"
    }
   ],
   "source": [
    "total_df = sample_df.merge(test_preds_df, on=\"record_name\", suffixes=(\"_x\", \"\"))\n",
    "total_df[[\"record_name\", \"myocard\"]].to_csv(\"submit.csv\", index=False)\n",
    "total_df"
   ]
  },
  {
   "cell_type": "code",
   "execution_count": 20,
   "id": "7cc3fd10-3e9e-47a3-a692-6e35503ecf7f",
   "metadata": {},
   "outputs": [],
   "source": [
    "# PUBLIC LB\n",
    "# 0.88328713 -- 0.8846584885658033\n",
    "# 0.887352   -- 0.8955102040816327\n",
    "# 0.90931654 -- 0.9041287414043998 "
   ]
  }
 ],
 "metadata": {
  "kernelspec": {
   "display_name": "Python 3 (ipykernel)",
   "language": "python",
   "name": "python3"
  },
  "language_info": {
   "codemirror_mode": {
    "name": "ipython",
    "version": 3
   },
   "file_extension": ".py",
   "mimetype": "text/x-python",
   "name": "python",
   "nbconvert_exporter": "python",
   "pygments_lexer": "ipython3",
   "version": "3.10.5"
  }
 },
 "nbformat": 4,
 "nbformat_minor": 5
}
