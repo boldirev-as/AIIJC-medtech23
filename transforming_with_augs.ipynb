{
 "cells": [
  {
   "cell_type": "code",
   "execution_count": 44,
   "metadata": {},
   "outputs": [],
   "source": [
    "import pandas as pd\n",
    "import numpy as np\n",
    "import matplotlib.pyplot as plt\n",
    "from tqdm.notebook import tqdm\n",
    "from sklearn.preprocessing import MinMaxScaler\n",
    "from sklearn.preprocessing import Normalizer\n",
    "import aug_policy \n",
    "import torch\n",
    "\n",
    "import os\n",
    "\n",
    "np.random.seed(42)\n",
    "import warnings\n",
    "warnings.filterwarnings(\"ignore\")"
   ]
  },
  {
   "cell_type": "code",
   "execution_count": 2,
   "metadata": {},
   "outputs": [],
   "source": [
    "gts_final = gts = pd.read_csv(\"./train/train_gts_final.csv\")\n",
    "meta = pd.read_csv(\"./train/train_meta.csv\")\n",
    "\n",
    "df = meta.merge(gts_final, on='record_name')"
   ]
  },
  {
   "cell_type": "markdown",
   "metadata": {},
   "source": [
    "Количество записей, где только одна единичка"
   ]
  },
  {
   "cell_type": "code",
   "execution_count": 3,
   "metadata": {},
   "outputs": [
    {
     "data": {
      "text/plain": [
       "1    0.850602\n",
       "2    0.146988\n",
       "3    0.002410\n",
       "Name: proportion, dtype: float64"
      ]
     },
     "execution_count": 3,
     "metadata": {},
     "output_type": "execute_result"
    }
   ],
   "source": [
    "df[df['норма'] != 1][['перегородочный', \"передний\", \"боковой\", \"передне-боковой\", \n",
    "                      \"передне-перегородочный\", \"нижний\"]].sum(axis=1).value_counts(normalize=True)"
   ]
  },
  {
   "cell_type": "markdown",
   "metadata": {},
   "source": [
    "количество единичек по каждой колонке"
   ]
  },
  {
   "cell_type": "code",
   "execution_count": 4,
   "metadata": {},
   "outputs": [
    {
     "data": {
      "text/plain": [
       "{'перегородочный': 0.02760590195145169,\n",
       " 'передний': 0.02617801047120419,\n",
       " 'боковой': 0.0009519276534983341,\n",
       " 'передне-боковой': 0.012375059495478343,\n",
       " 'передне-перегородочный': 0.05663969538315088,\n",
       " 'нижний': 0.10376011423131842}"
      ]
     },
     "execution_count": 4,
     "metadata": {},
     "output_type": "execute_result"
    }
   ],
   "source": [
    "col_popularity = {}\n",
    "for column in ['перегородочный', \"передний\", \"боковой\", \"передне-боковой\", \"передне-перегородочный\", \"нижний\"]:\n",
    "    res = df[column].value_counts(normalize=True)[1]\n",
    "    col_popularity.update({column:res})\n",
    "col_popularity"
   ]
  },
  {
   "cell_type": "markdown",
   "metadata": {},
   "source": [
    "колличество всех возможных комбинаций 0 и 1 (и закодированных в одну переменную - target)"
   ]
  },
  {
   "cell_type": "code",
   "execution_count": 5,
   "metadata": {},
   "outputs": [
    {
     "name": "stdout",
     "output_type": "stream",
     "text": [
      "[(0, '0001100'), (1, '0000001'), (2, '0010000'), (3, '0001000'), (4, '0101010'), (5, '0001010'), (6, '1000010'), (7, '0000100'), (8, '0000010'), (9, '0100010'), (10, '1000000'), (11, '0100000'), (12, '0000110')]\n"
     ]
    }
   ],
   "source": [
    "df[\"target\"] = [\"\".join(map(str, x)) for x in df[[\"перегородочный\", \"передний\", \"боковой\", \"передне-боковой\", \n",
    "                             \"передне-перегородочный\", \"нижний\", \"норма\"]].to_numpy()]\n",
    "TARGETS = list(set(df.target))\n",
    "print(list(enumerate(TARGETS)))\n",
    "df[\"target\"] = df[\"target\"].map(lambda x: TARGETS.index(x))"
   ]
  },
  {
   "cell_type": "code",
   "execution_count": 6,
   "metadata": {},
   "outputs": [],
   "source": [
    "df_test = pd.read_csv(\"./test/test_meta.csv\")"
   ]
  },
  {
   "cell_type": "code",
   "execution_count": 7,
   "metadata": {},
   "outputs": [],
   "source": [
    "def load_record(record_name, is_train):\n",
    "    if is_train:\n",
    "        with open(f\"../task_final/train/{record_name}.npy\", \"rb\") as f:\n",
    "            data  = np.load(f, allow_pickle=True)\n",
    "    else:\n",
    "        with open(f\"../task_final/test/{record_name}.npy\", \"rb\") as f:\n",
    "            data  = np.load(f, allow_pickle=True)\n",
    "    return data\n",
    "\n",
    "def print_beat(x, y, ecg_channel):\n",
    "    fig, ax = plt.subplots()  # Create a figure containing a single axes.\n",
    "    ax.set_title(f\"ECG channel {ecg_channel}\")\n",
    "    ax.plot(x, y)  # Plot some data on the axes."
   ]
  },
  {
   "cell_type": "code",
   "execution_count": 8,
   "metadata": {},
   "outputs": [],
   "source": [
    "import multiprocessing\n",
    "\n",
    "\n",
    "\n",
    "class Transformator():\n",
    "    \"\"\" Класс-пайплайн от датафрейма train.gts до трансформированных данных ЭКГ.\n",
    "    \n",
    "    \"\"\"\n",
    "    def __init__(self,args, transformation_func, is_train):\n",
    "        self.is_train = is_train\n",
    "        self.args = args\n",
    "        self.transformation_func = transformation_func\n",
    "    \n",
    "    def run_pipeline(self, df):\n",
    "        \n",
    "        result_df = self.pipeline_ecg(self.transformation_func, df)\n",
    "        return result_df\n",
    "\n",
    "    # transformation func - function that transforms record to any \n",
    "    def pipeline_ecg(self, transformation_func, df):\n",
    "\n",
    "        result_df = df.copy()\n",
    "        record_names = result_df['record_name'].to_list()\n",
    "        result_df['correct_transformation'] = True\n",
    "        path = \"\"\n",
    "        if self.is_train: \n",
    "            if(not os.path.exists(\"./transformed_train/\")):\n",
    "                os.mkdir(\"./transformed_train/\")\n",
    "            path = \"./transformed_train/\"\n",
    "        else:\n",
    "            if(not os.path.exists(\"./transformed_test/\")):\n",
    "                os.mkdir(\"./transformed_test/\")\n",
    "            path = \"./transformed_test/\"\n",
    "\n",
    "        new_names_column = [] \n",
    "        for record_name in tqdm(record_names):\n",
    "            transformed = transformation_func(record_name, **self.args)\n",
    "            # transformed - shape [12, 9] if preprocessing_with beats\n",
    "\n",
    "            new_names = []\n",
    "            for i in range(transformed.shape[1]):\n",
    "                name = f\"{record_name}_n{i}\"\n",
    "                new_names.append(name)\n",
    "                np.save(path+name+\".npy\", transformed[:, i])\n",
    "            new_names_column.append(new_names)\n",
    "        result_df[\"new_name\"] = new_names_column\n",
    "\n",
    "        result_df = result_df.explode(\"new_name\", ignore_index=True) \n",
    "        return result_df \n",
    "\n",
    "    def check_correctnes(self, df):\n",
    "        test_df = df.iloc[:3]\n",
    "        self.run_pipeline(test_df)\n"
   ]
  },
  {
   "cell_type": "code",
   "execution_count": 9,
   "metadata": {},
   "outputs": [],
   "source": [
    "from preprocessing_with_beats import PipelineBeatExtraction\n",
    "pipeline = PipelineBeatExtraction(prefix=\"./train\", noise_level=2)\n",
    "pipeline_test = PipelineBeatExtraction(prefix=\"./test\", noise_level=2)\n",
    "pipeline_func_test = pipeline_test.run_pipeline\n",
    "pipeline_func = pipeline.run_pipeline\n",
    "\n",
    "# transformator = Transformator({}, pipeline_func, is_train=True )\n",
    "# transformator_test = Transformator({}, pipeline_func_test, is_train=False)\n"
   ]
  },
  {
   "cell_type": "markdown",
   "metadata": {},
   "source": [
    "Проверка на правильность работы."
   ]
  },
  {
   "cell_type": "code",
   "execution_count": 10,
   "metadata": {},
   "outputs": [],
   "source": [
    "# transformator.check_correctnes(df)"
   ]
  },
  {
   "cell_type": "code",
   "execution_count": 11,
   "metadata": {},
   "outputs": [],
   "source": [
    "# transformator_test.check_correctnes(df_test)"
   ]
  },
  {
   "cell_type": "markdown",
   "metadata": {},
   "source": [
    "Запуск препроцессинга для тренировочных данных в многопроцессном режиме."
   ]
  },
  {
   "cell_type": "code",
   "execution_count": 12,
   "metadata": {},
   "outputs": [],
   "source": [
    "# from joblib import Parallel, delayed\n",
    "\n",
    "# def process_dataframe(df):\n",
    "#     result_df = transformator.pipeline_ecg(transformator.transformation_func, df)\n",
    "#     return result_df\n",
    "\n",
    "# process_num = 12\n",
    "\n",
    "# result_test_dfs = Parallel(\n",
    "#     n_jobs=process_num,\n",
    "#     verbose=100\n",
    "# )(\n",
    "#     delayed(process_dataframe)(x) for x in np.array_split(df, process_num)\n",
    "# )\n",
    "\n",
    "# result_df = pd.concat(result_test_dfs)\n",
    "# result_df.to_csv(\"transformed_df.csv\")"
   ]
  },
  {
   "cell_type": "code",
   "execution_count": 13,
   "metadata": {},
   "outputs": [],
   "source": [
    "# # Define the process_dataframe function\n",
    "# process_num = 12\n",
    "\n",
    "# def process_dataframe(df):\n",
    "#     result_df = transformator.pipeline_ecg(transformator.transformation_func, df)\n",
    "#     return result_df\n",
    "\n",
    "\n",
    "# # Split your data into multiple dataframes\n",
    "# dfs = np.array_split(df, process_num) \n",
    "\n",
    "\n",
    "# # Create a pool of worker processes\n",
    "# pool = multiprocessing.Pool(processes=process_num)\n",
    "\n",
    "# result_dfs = []\n",
    "# # Run the process_dataframe function in parallel for each dataframe\n",
    "# for result_df in tqdm(pool.imap(process_dataframe, dfs)):\n",
    "#     result_dfs.append(result_df)\n",
    "\n",
    "# # Close the pool of worker processes\n",
    "# pool.close()\n",
    "# pool.join()\n",
    "\n",
    "# result_df = pd.concat(result_dfs)\n",
    "# result_df.to_csv(\"transformed_df.csv\")"
   ]
  },
  {
   "cell_type": "markdown",
   "metadata": {},
   "source": [
    "Запуск препроцессинга для тестовых данных."
   ]
  },
  {
   "cell_type": "code",
   "execution_count": 14,
   "metadata": {},
   "outputs": [],
   "source": [
    "#from joblib import Parallel, delayed\n",
    "\n",
    "# def process_dataframe(df):\n",
    "#     result_df = transformator_test.pipeline_ecg(transformator_test.transformation_func, df)\n",
    "#     return result_df\n",
    "\n",
    "process_num = 12\n",
    "\n",
    "# result_test_dfs = Parallel(\n",
    "#     n_jobs=process_num,\n",
    "#     verbose=100\n",
    "# )(\n",
    "#     delayed(process_dataframe)(x) for x in np.array_split(df_test, process_num)\n",
    "# )\n",
    "\n",
    "# result_test_df = pd.concat(result_test_dfs)\n",
    "# result_test_df.to_csv(\"transformed_test_df.csv\")"
   ]
  },
  {
   "cell_type": "code",
   "execution_count": 15,
   "metadata": {},
   "outputs": [],
   "source": [
    "# def process_dataframe(df):\n",
    "#     result_df = transformator_test.pipeline_ecg(transformator_test.transformation_func, df)\n",
    "#     return result_df\n",
    "\n",
    "# # Split your data into multiple dataframes\n",
    "# test_dfs = np.array_split(df_test, process_num) \n",
    "\n",
    "\n",
    "# # Create a pool of worker processes\n",
    "# pool = multiprocessing.Pool(processes=process_num)\n",
    "\n",
    "# result_test_dfs = []\n",
    "# # Run the process_dataframe function in parallel for each dataframe\n",
    "# #result_dfs = pool.map(process_dataframe, dfs)\n",
    "# for result_test_df in tqdm(pool.imap(process_dataframe, test_dfs)):\n",
    "#     result_test_dfs.append(result_test_df)\n",
    "\n",
    "# # Close the pool of worker processes\n",
    "# pool.close()\n",
    "# pool.join()\n",
    "\n",
    "# result_test_df = pd.concat(result_test_dfs)\n",
    "# result_test_df.to_csv(\"transformed_test_df.csv\")"
   ]
  },
  {
   "cell_type": "code",
   "execution_count": 16,
   "metadata": {},
   "outputs": [],
   "source": [
    "result_df = pd.read_csv('transformed_df.csv')\n",
    "result_df = result_df.merge(df, on=\"record_name\")"
   ]
  },
  {
   "cell_type": "markdown",
   "metadata": {},
   "source": [
    "Там где мульти-лейбл меняем на класс, которого представлено меньше"
   ]
  },
  {
   "cell_type": "code",
   "execution_count": 18,
   "metadata": {},
   "outputs": [],
   "source": [
    "def turn_in_multiclass(df):\n",
    "    def replace_with_sum(row):\n",
    "        row_new=row\n",
    "        for i, v in row.items():\n",
    "            if v==1:\n",
    "                row_new[i]=df[i].sum()\n",
    "        return row_new\n",
    "\n",
    "    def keks2(row):\n",
    "        mn = row.max()\n",
    "        for i, v in row.items():\n",
    "            if v!=0 and v<mn:\n",
    "                mn=v\n",
    "        if mn==0:\n",
    "            return row\n",
    "        else:\n",
    "            new_row =  row.where(row != mn, 1)\n",
    "            new_row[(new_row!=0)&(new_row!=1)]=0\n",
    "            return new_row\n",
    "\n",
    "    keks = df[df[[\"перегородочный\",\"передний\",\"боковой\",\"передне-боковой\",\"передне-перегородочный\",\"нижний\"]].sum(axis=1)>1]\n",
    "\n",
    "    # Apply the function to each row in the DataFrame\n",
    "    res = keks.apply(replace_with_sum,axis=1)\n",
    "    res = res[[\"перегородочный\",\"передний\",\"боковой\",\"передне-боковой\",\"передне-перегородочный\",\"нижний\"]].apply(keks2, axis=1)\n",
    "    meow = df.copy() \n",
    "    meow.update(res)\n",
    "    return meow \n",
    "    \n",
    "result_df = turn_in_multiclass(result_df)\n",
    "#new\n",
    "#new[new[[\"перегородочный\",\"передний\",\"боковой\",\"передне-боковой\",\"передне-перегородочный\",\"нижний\"]].sum(axis=1)>1]"
   ]
  },
  {
   "cell_type": "code",
   "execution_count": 19,
   "metadata": {},
   "outputs": [
    {
     "data": {
      "text/html": [
       "<div>\n",
       "<style scoped>\n",
       "    .dataframe tbody tr th:only-of-type {\n",
       "        vertical-align: middle;\n",
       "    }\n",
       "\n",
       "    .dataframe tbody tr th {\n",
       "        vertical-align: top;\n",
       "    }\n",
       "\n",
       "    .dataframe thead th {\n",
       "        text-align: right;\n",
       "    }\n",
       "</style>\n",
       "<table border=\"1\" class=\"dataframe\">\n",
       "  <thead>\n",
       "    <tr style=\"text-align: right;\">\n",
       "      <th></th>\n",
       "      <th>Unnamed: 0</th>\n",
       "      <th>patient_id_x</th>\n",
       "      <th>age_x</th>\n",
       "      <th>sex_x</th>\n",
       "      <th>height_x</th>\n",
       "      <th>weight_x</th>\n",
       "      <th>record_name</th>\n",
       "      <th>myocard</th>\n",
       "      <th>correct_transformation</th>\n",
       "      <th>new_name</th>\n",
       "      <th>...</th>\n",
       "      <th>height_y</th>\n",
       "      <th>weight_y</th>\n",
       "      <th>перегородочный</th>\n",
       "      <th>передний</th>\n",
       "      <th>боковой</th>\n",
       "      <th>передне-боковой</th>\n",
       "      <th>передне-перегородочный</th>\n",
       "      <th>нижний</th>\n",
       "      <th>норма</th>\n",
       "      <th>target</th>\n",
       "    </tr>\n",
       "  </thead>\n",
       "  <tbody>\n",
       "  </tbody>\n",
       "</table>\n",
       "<p>0 rows × 23 columns</p>\n",
       "</div>"
      ],
      "text/plain": [
       "Empty DataFrame\n",
       "Columns: [Unnamed: 0, patient_id_x, age_x, sex_x, height_x, weight_x, record_name, myocard, correct_transformation, new_name, patient_id_y, age_y, sex_y, height_y, weight_y, перегородочный, передний, боковой, передне-боковой, передне-перегородочный, нижний, норма, target]\n",
       "Index: []\n",
       "\n",
       "[0 rows x 23 columns]"
      ]
     },
     "execution_count": 19,
     "metadata": {},
     "output_type": "execute_result"
    }
   ],
   "source": [
    "result_df[result_df[[\"перегородочный\",\"передний\",\"боковой\",\"передне-боковой\",\"передне-перегородочный\",\"нижний\"]].sum(axis=1)>1]"
   ]
  },
  {
   "cell_type": "markdown",
   "metadata": {},
   "source": [
    "Создание аннотаций для тренировки модели."
   ]
  },
  {
   "cell_type": "code",
   "execution_count": 20,
   "metadata": {},
   "outputs": [],
   "source": [
    "from sklearn.model_selection import train_test_split, StratifiedGroupKFold"
   ]
  },
  {
   "cell_type": "code",
   "execution_count": 128,
   "metadata": {},
   "outputs": [],
   "source": [
    "def downsample(df, fraction=1):\n",
    "        \"\"\"\n",
    "        function to downsample majority class.\n",
    "        \"\"\"\n",
    "        # Separate the majority and minority classes\n",
    "        majority_class = df[df['норма'] == 1]\n",
    "        minority_class = df[df['норма'] != 1] \n",
    "        \n",
    "        downsampled_majority = majority_class.sample(frac=fraction, replace=True) \n",
    "        \n",
    "        downsampled_df = pd.concat([downsampled_majority, minority_class], axis=0)\n",
    "        \n",
    "        return downsampled_df\n",
    "\n",
    "def oversample(df, majority_target=0):\n",
    "\n",
    "    \"\"\"\n",
    "    оверсэмпл данных кроме нормальный до такого же количества как и норм пациентов\n",
    "    \"\"\"\n",
    "\n",
    "    num_required_samples_per_class = len(df[df.target == majority_target])\n",
    "\n",
    "    dfs = [df[df.target == majority_target]]\n",
    "    for localizator in tqdm(set(df.target)):\n",
    "        if localizator == majority_target:\n",
    "            continue\n",
    "        \n",
    "        minority_df = df[df.target == localizator]\n",
    "        created_df = df.iloc[0:0]\n",
    "        count_created = 0\n",
    "        while count_created < num_required_samples_per_class:\n",
    "            for i, row in minority_df.iterrows():\n",
    "                beat = torch.Tensor(np.load(f'./transformed_train/{row[\"new_name\"]}.npy'))\n",
    "    \n",
    "                row = row.copy()\n",
    "                row[\"new_name\"] = f'{row[\"new_name\"]}_{count_created}'\n",
    "                created_df = pd.concat([created_df, row.to_frame().T])\n",
    "                \n",
    "                augmented = aug(test_beat.view(1, 12, -1), torch.Tensor(1)).detach().numpy()[0]\n",
    "                np.save(f'./transformed_train2/{row[\"new_name\"]}_{count_created}.npy', augmented)\n",
    "                count_created += 1\n",
    "                if count_created == num_required_samples_per_class:\n",
    "                    break\n",
    "        \n",
    "        dfs.append(created_df.copy())\n",
    "        \n",
    "    oversampled_df = pd.concat(dfs, axis=0)\n",
    "        \n",
    "    return oversampled_df\n"
   ]
  },
  {
   "cell_type": "code",
   "execution_count": 129,
   "metadata": {},
   "outputs": [
    {
     "name": "stdout",
     "output_type": "stream",
     "text": [
      "[(0, '0000001'), (1, '0010000'), (2, '0001000'), (3, '0000100'), (4, '0000010'), (5, '1000000'), (6, '0100000')]\n"
     ]
    }
   ],
   "source": [
    "result_df[\"target\"] = [\"\".join(map(str, x)) for x in result_df[[\"перегородочный\", \"передний\", \"боковой\", \"передне-боковой\", \n",
    "                             \"передне-перегородочный\", \"нижний\", \"норма\"]].to_numpy()]\n",
    "TARGETS = list(set(result_df.target))\n",
    "print(list(enumerate(TARGETS)))\n",
    "result_df[\"target\"] = result_df[\"target\"].map(lambda x: TARGETS.index(x))"
   ]
  },
  {
   "cell_type": "markdown",
   "metadata": {},
   "source": [
    "разделим датасет на трейн и вал"
   ]
  },
  {
   "cell_type": "code",
   "execution_count": 130,
   "metadata": {},
   "outputs": [],
   "source": [
    "annotations = result_df[['new_name', 'target', \"перегородочный\", \"передний\", \"боковой\", \"передне-боковой\", \n",
    "                             \"передне-перегородочный\", \"нижний\", \"норма\"]]   \n",
    "cv = StratifiedGroupKFold(n_splits=5, random_state=0, shuffle=True)\n",
    "train_idxs, test_idxs = next(cv.split(annotations[\"new_name\"], annotations[\"target\"], result_df[\"record_name\"]))\n",
    "\n",
    "val_annotations = annotations.iloc[test_idxs]\n",
    "train_annotations = annotations.iloc[train_idxs]"
   ]
  },
  {
   "cell_type": "markdown",
   "metadata": {},
   "source": [
    "уменьшим количество норм пациентов в 10 раз"
   ]
  },
  {
   "cell_type": "code",
   "execution_count": 131,
   "metadata": {},
   "outputs": [],
   "source": [
    "train_annotations = downsample(train_annotations, fraction=0.1)"
   ]
  },
  {
   "cell_type": "markdown",
   "metadata": {},
   "source": [
    "инициализация аугментатора"
   ]
  },
  {
   "cell_type": "code",
   "execution_count": 132,
   "metadata": {},
   "outputs": [],
   "source": [
    "aug = aug_policy.full_policy(learn_mag=False, learn_prob=False)"
   ]
  },
  {
   "cell_type": "code",
   "execution_count": 133,
   "metadata": {},
   "outputs": [],
   "source": [
    "test_beat = torch.Tensor(np.load('./transformed_train/00269_hr_n1.npy'))"
   ]
  },
  {
   "cell_type": "code",
   "execution_count": 134,
   "metadata": {},
   "outputs": [],
   "source": [
    "augmented = aug(test_beat.view(1, 12, -1), torch.Tensor(1)).detach().numpy()[0]"
   ]
  },
  {
   "cell_type": "code",
   "execution_count": 140,
   "metadata": {},
   "outputs": [
    {
     "data": {
      "image/png": "[encoded data removed]",
      "text/plain": [
       "<Figure size 640x480 with 1 Axes>"
      ]
     },
     "metadata": {},
     "output_type": "display_data"
    }
   ],
   "source": [
    "plt.plot(test_beat[0], label = \"real\") \n",
    "plt.plot(augmented[0], label = \"aug\") \n",
    "plt.legend(title=\"Example\") \n",
    "plt.show()"
   ]
  },
  {
   "cell_type": "markdown",
   "metadata": {},
   "source": [
    "оверсэмпл данных кроме нормальный до такого же количества как и норм пациентов c помощью аугов"
   ]
  },
  {
   "cell_type": "code",
   "execution_count": 137,
   "metadata": {},
   "outputs": [
    {
     "data": {
      "application/vnd.jupyter.widget-view+json": {
       "model_id": "11f4159a6e894b309ea9c290b3316e38",
       "version_major": 2,
       "version_minor": 0
      },
      "text/plain": [
       "  0%|          | 0/7 [00:00<?, ?it/s]"
      ]
     },
     "metadata": {},
     "output_type": "display_data"
    }
   ],
   "source": [
    "balanced_df = oversample(train_annotations)"
   ]
  },
  {
   "cell_type": "code",
   "execution_count": 138,
   "metadata": {},
   "outputs": [
    {
     "name": "stdout",
     "output_type": "stream",
     "text": [
      "number of validation samples: 4302\n",
      "number of train samples: 9681\n",
      "validation percentage: 0.19879852125693162\n",
      "train percentage: 0.44736598890942697\n",
      "VALIDATION myocard percentage target\n",
      "0    0.807764\n",
      "4    0.063924\n",
      "3    0.058345\n",
      "5    0.034170\n",
      "6    0.030916\n",
      "2    0.004881\n",
      "Name: proportion, dtype: float64\n",
      "TTRAIN myocard percentage target\n",
      "0    0.142857\n",
      "1    0.142857\n",
      "2    0.142857\n",
      "3    0.142857\n",
      "4    0.142857\n",
      "5    0.142857\n",
      "6    0.142857\n",
      "Name: proportion, dtype: float64\n"
     ]
    }
   ],
   "source": [
    "print(\"number of validation samples:\",len(val_annotations) )\n",
    "print(\"number of train samples:\",len(balanced_df))\n",
    "\n",
    "print(\"validation percentage:\", len(val_annotations) / len(annotations))\n",
    "print(\"train percentage:\",len(balanced_df) / len(annotations))\n",
    "\n",
    "print(\"VALIDATION myocard percentage\", val_annotations[\"target\"].value_counts(normalize=True))\n",
    "print(\"TTRAIN myocard percentage\", balanced_df[\"target\"].value_counts(normalize=True))"
   ]
  },
  {
   "cell_type": "code",
   "execution_count": 139,
   "metadata": {},
   "outputs": [],
   "source": [
    "val_annotations.to_csv('./val_annotations.csv', index=False)\n",
    "balanced_df.to_csv('./train_annotations.csv', index=False)"
   ]
  },
  {
   "cell_type": "code",
   "execution_count": null,
   "metadata": {},
   "outputs": [],
   "source": []
  }
 ],
 "metadata": {
  "kernelspec": {
   "display_name": "Python 3 (ipykernel)",
   "language": "python",
   "name": "python3"
  },
  "language_info": {
   "codemirror_mode": {
    "name": "ipython",
    "version": 3
   },
   "file_extension": ".py",
   "mimetype": "text/x-python",
   "name": "python",
   "nbconvert_exporter": "python",
   "pygments_lexer": "ipython3",
   "version": "3.11.6"
  }
 },
 "nbformat": 4,
 "nbformat_minor": 4
}
